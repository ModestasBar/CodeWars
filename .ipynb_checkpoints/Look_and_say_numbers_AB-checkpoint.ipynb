{
 "cells": [
  {
   "cell_type": "markdown",
   "metadata": {},
   "source": [
    "# Look and say numbers <6 kyu>"
   ]
  },
  {
   "cell_type": "markdown",
   "metadata": {},
   "source": [
    "Starting with \"1\" the following lines are produced by \"saying what you see\", so that line two is \"one one\", line three is \"two one(s)\", line four is \"one two one one\".\n",
    "\n",
    "Write a function that given a starting value as a string, returns the appropriate sequence as a list. The starting value can have any number of digits. The termination condition is a defined by the maximum number of iterations, also supplied as an argument."
   ]
  },
  {
   "cell_type": "code",
   "execution_count": 173,
   "metadata": {},
   "outputs": [],
   "source": [
    "def main(data, maxlen):\n",
    "    start = data[1:] + ' '\n",
    "    check = data[0]\n",
    "    result = ''\n",
    "    times = 1\n",
    "    for digit in start:\n",
    "        if digit != check:\n",
    "            result = result + str(times)+check\n",
    "            check = digit\n",
    "            times = 1\n",
    "        else:\n",
    "            times = times + 1\n",
    "    maxlen = maxlen -1\n",
    "    if maxlen == 0:\n",
    "        return result\n",
    "    else:\n",
    "        return result +' '+ main(result, maxlen)\n",
    "\n",
    "def look_and_say(data='1', maxlen=5):\n",
    "    return main(data,maxlen).split()"
   ]
  },
  {
   "cell_type": "code",
   "execution_count": 174,
   "metadata": {},
   "outputs": [
    {
     "data": {
      "text/plain": [
       "['11',\n",
       " '21',\n",
       " '1211',\n",
       " '111221',\n",
       " '312211',\n",
       " '13112221',\n",
       " '1113213211',\n",
       " '31131211131221',\n",
       " '13211311123113112211',\n",
       " '11131221133112132113212221']"
      ]
     },
     "execution_count": 174,
     "metadata": {},
     "output_type": "execute_result"
    }
   ],
   "source": [
    "look_and_say(data='1', maxlen=10)"
   ]
  }
 ],
 "metadata": {
  "kernelspec": {
   "display_name": "Python 3",
   "language": "python",
   "name": "python3"
  },
  "language_info": {
   "codemirror_mode": {
    "name": "ipython",
    "version": 3
   },
   "file_extension": ".py",
   "mimetype": "text/x-python",
   "name": "python",
   "nbconvert_exporter": "python",
   "pygments_lexer": "ipython3",
   "version": "3.7.4"
  }
 },
 "nbformat": 4,
 "nbformat_minor": 2
}
