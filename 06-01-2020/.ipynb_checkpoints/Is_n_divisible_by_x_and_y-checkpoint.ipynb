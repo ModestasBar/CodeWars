{
 "cells": [
  {
   "cell_type": "markdown",
   "metadata": {},
   "source": [
    "Create a function that checks if a number n is divisible by two numbers x AND y. All inputs are positive, non-zero digits\n",
    "\n",
    "Examples:\n",
    "n = 3, x = 1, y = 3 => true because 3 is divisible by 1 and 3 \n",
    "\n",
    "n = 12, x = 2, y = 6 => true because 12 is divisible by 2 and 6 \n",
    "\n",
    "n = 100, x = 5, y = 3 => false because 100 is not divisible by 3 \n",
    "\n",
    "n = 12, x = 7, y = 5 => false because 12 is neither divisible by 7 nor 5 "
   ]
  },
  {
   "cell_type": "code",
   "execution_count": 1,
   "metadata": {},
   "outputs": [],
   "source": [
    "def is_divisible(n,x,y):\n",
    "    return n%x==0 and n%y==0"
   ]
  }
 ],
 "metadata": {
  "kernelspec": {
   "display_name": "Python 3",
   "language": "python",
   "name": "python3"
  },
  "language_info": {
   "codemirror_mode": {
    "name": "ipython",
    "version": 3
   },
   "file_extension": ".py",
   "mimetype": "text/x-python",
   "name": "python",
   "nbconvert_exporter": "python",
   "pygments_lexer": "ipython3",
   "version": "3.7.4"
  }
 },
 "nbformat": 4,
 "nbformat_minor": 2
}
