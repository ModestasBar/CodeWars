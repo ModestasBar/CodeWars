{
 "cells": [
  {
   "cell_type": "code",
   "execution_count": 1,
   "metadata": {},
   "outputs": [],
   "source": [
    "def min_sum(arr): \n",
    "    temp_1 = 0\n",
    "    ans = 0\n",
    "    for i in range(0, len(arr)):    \n",
    "        for j in range(i+1, len(arr)):    \n",
    "            if(arr[i] > arr[j]):    \n",
    "                temp_1 = arr[i]   \n",
    "                arr[i] = arr[j]   \n",
    "                arr[j] = temp_1 \n",
    "    for i in range(0, len(arr)):\n",
    "        ans = ans + (arr[i] * arr[-i-1])\n",
    "        if i==((len(arr)/2) - 1):\n",
    "            break\n",
    "    return ans"
   ]
  }
 ],
 "metadata": {
  "kernelspec": {
   "display_name": "Python 3",
   "language": "python",
   "name": "python3"
  },
  "language_info": {
   "codemirror_mode": {
    "name": "ipython",
    "version": 3
   },
   "file_extension": ".py",
   "mimetype": "text/x-python",
   "name": "python",
   "nbconvert_exporter": "python",
   "pygments_lexer": "ipython3",
   "version": "3.7.4"
  }
 },
 "nbformat": 4,
 "nbformat_minor": 2
}
